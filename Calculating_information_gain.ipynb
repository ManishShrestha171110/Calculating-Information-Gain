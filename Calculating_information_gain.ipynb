{
 "cells": [
  {
   "cell_type": "code",
   "execution_count": null,
   "id": "2faabf58",
   "metadata": {
    "id": "2faabf58"
   },
   "outputs": [],
   "source": [
    "import pandas as pd\n",
    "import numpy as np"
   ]
  },
  {
   "cell_type": "code",
   "execution_count": null,
   "id": "4smHHQkQ57fn",
   "metadata": {
    "colab": {
     "base_uri": "https://localhost:8080/"
    },
    "id": "4smHHQkQ57fn",
    "outputId": "dbc61f17-021c-4e6c-d7e5-997c898a2f67"
   },
   "outputs": [
    {
     "name": "stdout",
     "output_type": "stream",
     "text": [
      "Drive already mounted at /content/drive; to attempt to forcibly remount, call drive.mount(\"/content/drive\", force_remount=True).\n"
     ]
    }
   ],
   "source": [
    "from google.colab import drive\n",
    "drive.mount('/content/drive')"
   ]
  },
  {
   "cell_type": "code",
   "execution_count": null,
   "id": "ynuxFasD6Xz3",
   "metadata": {
    "id": "ynuxFasD6Xz3"
   },
   "outputs": [],
   "source": [
    "#Importing the data and stored inside path variables\n",
    "path = '/content/drive/MyDrive/samplecar (1).csv'"
   ]
  },
  {
   "cell_type": "code",
   "execution_count": null,
   "id": "4f6241d3",
   "metadata": {
    "colab": {
     "base_uri": "https://localhost:8080/"
    },
    "id": "4f6241d3",
    "outputId": "8cbca852-a96d-4351-a3d6-60b8e6c8734a"
   },
   "outputs": [
    {
     "name": "stdout",
     "output_type": "stream",
     "text": [
      "(10, 3)\n"
     ]
    }
   ],
   "source": [
    "df = pd.read_csv(path)\n",
    "print(df.shape)"
   ]
  },
  {
   "cell_type": "code",
   "execution_count": null,
   "id": "1c4ead63",
   "metadata": {
    "colab": {
     "base_uri": "https://localhost:8080/",
     "height": 206
    },
    "id": "1c4ead63",
    "outputId": "cb483d39-0ed0-4bfb-c303-4d9b8b1f8219"
   },
   "outputs": [
    {
     "data": {
      "text/html": [
       "\n",
       "  <div id=\"df-dfb255a4-9129-4b02-a9e5-0197e7b09125\">\n",
       "    <div class=\"colab-df-container\">\n",
       "      <div>\n",
       "<style scoped>\n",
       "    .dataframe tbody tr th:only-of-type {\n",
       "        vertical-align: middle;\n",
       "    }\n",
       "\n",
       "    .dataframe tbody tr th {\n",
       "        vertical-align: top;\n",
       "    }\n",
       "\n",
       "    .dataframe thead th {\n",
       "        text-align: right;\n",
       "    }\n",
       "</style>\n",
       "<table border=\"1\" class=\"dataframe\">\n",
       "  <thead>\n",
       "    <tr style=\"text-align: right;\">\n",
       "      <th></th>\n",
       "      <th>Type</th>\n",
       "      <th>Price</th>\n",
       "      <th>Buy</th>\n",
       "    </tr>\n",
       "  </thead>\n",
       "  <tbody>\n",
       "    <tr>\n",
       "      <th>0</th>\n",
       "      <td>SUV</td>\n",
       "      <td>H</td>\n",
       "      <td>No</td>\n",
       "    </tr>\n",
       "    <tr>\n",
       "      <th>1</th>\n",
       "      <td>HB</td>\n",
       "      <td>H</td>\n",
       "      <td>No</td>\n",
       "    </tr>\n",
       "    <tr>\n",
       "      <th>2</th>\n",
       "      <td>HB</td>\n",
       "      <td>H</td>\n",
       "      <td>Yes</td>\n",
       "    </tr>\n",
       "    <tr>\n",
       "      <th>3</th>\n",
       "      <td>HB</td>\n",
       "      <td>L</td>\n",
       "      <td>No</td>\n",
       "    </tr>\n",
       "    <tr>\n",
       "      <th>4</th>\n",
       "      <td>SEDAN</td>\n",
       "      <td>H</td>\n",
       "      <td>Yes</td>\n",
       "    </tr>\n",
       "  </tbody>\n",
       "</table>\n",
       "</div>\n",
       "      <button class=\"colab-df-convert\" onclick=\"convertToInteractive('df-dfb255a4-9129-4b02-a9e5-0197e7b09125')\"\n",
       "              title=\"Convert this dataframe to an interactive table.\"\n",
       "              style=\"display:none;\">\n",
       "        \n",
       "  <svg xmlns=\"http://www.w3.org/2000/svg\" height=\"24px\"viewBox=\"0 0 24 24\"\n",
       "       width=\"24px\">\n",
       "    <path d=\"M0 0h24v24H0V0z\" fill=\"none\"/>\n",
       "    <path d=\"M18.56 5.44l.94 2.06.94-2.06 2.06-.94-2.06-.94-.94-2.06-.94 2.06-2.06.94zm-11 1L8.5 8.5l.94-2.06 2.06-.94-2.06-.94L8.5 2.5l-.94 2.06-2.06.94zm10 10l.94 2.06.94-2.06 2.06-.94-2.06-.94-.94-2.06-.94 2.06-2.06.94z\"/><path d=\"M17.41 7.96l-1.37-1.37c-.4-.4-.92-.59-1.43-.59-.52 0-1.04.2-1.43.59L10.3 9.45l-7.72 7.72c-.78.78-.78 2.05 0 2.83L4 21.41c.39.39.9.59 1.41.59.51 0 1.02-.2 1.41-.59l7.78-7.78 2.81-2.81c.8-.78.8-2.07 0-2.86zM5.41 20L4 18.59l7.72-7.72 1.47 1.35L5.41 20z\"/>\n",
       "  </svg>\n",
       "      </button>\n",
       "      \n",
       "  <style>\n",
       "    .colab-df-container {\n",
       "      display:flex;\n",
       "      flex-wrap:wrap;\n",
       "      gap: 12px;\n",
       "    }\n",
       "\n",
       "    .colab-df-convert {\n",
       "      background-color: #E8F0FE;\n",
       "      border: none;\n",
       "      border-radius: 50%;\n",
       "      cursor: pointer;\n",
       "      display: none;\n",
       "      fill: #1967D2;\n",
       "      height: 32px;\n",
       "      padding: 0 0 0 0;\n",
       "      width: 32px;\n",
       "    }\n",
       "\n",
       "    .colab-df-convert:hover {\n",
       "      background-color: #E2EBFA;\n",
       "      box-shadow: 0px 1px 2px rgba(60, 64, 67, 0.3), 0px 1px 3px 1px rgba(60, 64, 67, 0.15);\n",
       "      fill: #174EA6;\n",
       "    }\n",
       "\n",
       "    [theme=dark] .colab-df-convert {\n",
       "      background-color: #3B4455;\n",
       "      fill: #D2E3FC;\n",
       "    }\n",
       "\n",
       "    [theme=dark] .colab-df-convert:hover {\n",
       "      background-color: #434B5C;\n",
       "      box-shadow: 0px 1px 3px 1px rgba(0, 0, 0, 0.15);\n",
       "      filter: drop-shadow(0px 1px 2px rgba(0, 0, 0, 0.3));\n",
       "      fill: #FFFFFF;\n",
       "    }\n",
       "  </style>\n",
       "\n",
       "      <script>\n",
       "        const buttonEl =\n",
       "          document.querySelector('#df-dfb255a4-9129-4b02-a9e5-0197e7b09125 button.colab-df-convert');\n",
       "        buttonEl.style.display =\n",
       "          google.colab.kernel.accessAllowed ? 'block' : 'none';\n",
       "\n",
       "        async function convertToInteractive(key) {\n",
       "          const element = document.querySelector('#df-dfb255a4-9129-4b02-a9e5-0197e7b09125');\n",
       "          const dataTable =\n",
       "            await google.colab.kernel.invokeFunction('convertToInteractive',\n",
       "                                                     [key], {});\n",
       "          if (!dataTable) return;\n",
       "\n",
       "          const docLinkHtml = 'Like what you see? Visit the ' +\n",
       "            '<a target=\"_blank\" href=https://colab.research.google.com/notebooks/data_table.ipynb>data table notebook</a>'\n",
       "            + ' to learn more about interactive tables.';\n",
       "          element.innerHTML = '';\n",
       "          dataTable['output_type'] = 'display_data';\n",
       "          await google.colab.output.renderOutput(dataTable, element);\n",
       "          const docLink = document.createElement('div');\n",
       "          docLink.innerHTML = docLinkHtml;\n",
       "          element.appendChild(docLink);\n",
       "        }\n",
       "      </script>\n",
       "    </div>\n",
       "  </div>\n",
       "  "
      ],
      "text/plain": [
       "    Type Price  Buy\n",
       "0    SUV     H   No\n",
       "1     HB     H   No\n",
       "2     HB     H  Yes\n",
       "3     HB     L   No\n",
       "4  SEDAN     H  Yes"
      ]
     },
     "execution_count": 60,
     "metadata": {},
     "output_type": "execute_result"
    }
   ],
   "source": [
    "df.head()"
   ]
  },
  {
   "cell_type": "code",
   "execution_count": null,
   "id": "9858b976",
   "metadata": {
    "colab": {
     "base_uri": "https://localhost:8080/",
     "height": 175
    },
    "id": "9858b976",
    "outputId": "ef80402a-4458-4d5d-a536-b428879336c6"
   },
   "outputs": [
    {
     "data": {
      "text/html": [
       "\n",
       "  <div id=\"df-8b63cc0f-702f-4e3d-b8c3-6bf78073006e\">\n",
       "    <div class=\"colab-df-container\">\n",
       "      <div>\n",
       "<style scoped>\n",
       "    .dataframe tbody tr th:only-of-type {\n",
       "        vertical-align: middle;\n",
       "    }\n",
       "\n",
       "    .dataframe tbody tr th {\n",
       "        vertical-align: top;\n",
       "    }\n",
       "\n",
       "    .dataframe thead th {\n",
       "        text-align: right;\n",
       "    }\n",
       "</style>\n",
       "<table border=\"1\" class=\"dataframe\">\n",
       "  <thead>\n",
       "    <tr style=\"text-align: right;\">\n",
       "      <th></th>\n",
       "      <th>Type</th>\n",
       "      <th>Price</th>\n",
       "      <th>Buy</th>\n",
       "    </tr>\n",
       "  </thead>\n",
       "  <tbody>\n",
       "    <tr>\n",
       "      <th>count</th>\n",
       "      <td>10</td>\n",
       "      <td>10</td>\n",
       "      <td>10</td>\n",
       "    </tr>\n",
       "    <tr>\n",
       "      <th>unique</th>\n",
       "      <td>3</td>\n",
       "      <td>3</td>\n",
       "      <td>2</td>\n",
       "    </tr>\n",
       "    <tr>\n",
       "      <th>top</th>\n",
       "      <td>HB</td>\n",
       "      <td>H</td>\n",
       "      <td>Yes</td>\n",
       "    </tr>\n",
       "    <tr>\n",
       "      <th>freq</th>\n",
       "      <td>4</td>\n",
       "      <td>5</td>\n",
       "      <td>6</td>\n",
       "    </tr>\n",
       "  </tbody>\n",
       "</table>\n",
       "</div>\n",
       "      <button class=\"colab-df-convert\" onclick=\"convertToInteractive('df-8b63cc0f-702f-4e3d-b8c3-6bf78073006e')\"\n",
       "              title=\"Convert this dataframe to an interactive table.\"\n",
       "              style=\"display:none;\">\n",
       "        \n",
       "  <svg xmlns=\"http://www.w3.org/2000/svg\" height=\"24px\"viewBox=\"0 0 24 24\"\n",
       "       width=\"24px\">\n",
       "    <path d=\"M0 0h24v24H0V0z\" fill=\"none\"/>\n",
       "    <path d=\"M18.56 5.44l.94 2.06.94-2.06 2.06-.94-2.06-.94-.94-2.06-.94 2.06-2.06.94zm-11 1L8.5 8.5l.94-2.06 2.06-.94-2.06-.94L8.5 2.5l-.94 2.06-2.06.94zm10 10l.94 2.06.94-2.06 2.06-.94-2.06-.94-.94-2.06-.94 2.06-2.06.94z\"/><path d=\"M17.41 7.96l-1.37-1.37c-.4-.4-.92-.59-1.43-.59-.52 0-1.04.2-1.43.59L10.3 9.45l-7.72 7.72c-.78.78-.78 2.05 0 2.83L4 21.41c.39.39.9.59 1.41.59.51 0 1.02-.2 1.41-.59l7.78-7.78 2.81-2.81c.8-.78.8-2.07 0-2.86zM5.41 20L4 18.59l7.72-7.72 1.47 1.35L5.41 20z\"/>\n",
       "  </svg>\n",
       "      </button>\n",
       "      \n",
       "  <style>\n",
       "    .colab-df-container {\n",
       "      display:flex;\n",
       "      flex-wrap:wrap;\n",
       "      gap: 12px;\n",
       "    }\n",
       "\n",
       "    .colab-df-convert {\n",
       "      background-color: #E8F0FE;\n",
       "      border: none;\n",
       "      border-radius: 50%;\n",
       "      cursor: pointer;\n",
       "      display: none;\n",
       "      fill: #1967D2;\n",
       "      height: 32px;\n",
       "      padding: 0 0 0 0;\n",
       "      width: 32px;\n",
       "    }\n",
       "\n",
       "    .colab-df-convert:hover {\n",
       "      background-color: #E2EBFA;\n",
       "      box-shadow: 0px 1px 2px rgba(60, 64, 67, 0.3), 0px 1px 3px 1px rgba(60, 64, 67, 0.15);\n",
       "      fill: #174EA6;\n",
       "    }\n",
       "\n",
       "    [theme=dark] .colab-df-convert {\n",
       "      background-color: #3B4455;\n",
       "      fill: #D2E3FC;\n",
       "    }\n",
       "\n",
       "    [theme=dark] .colab-df-convert:hover {\n",
       "      background-color: #434B5C;\n",
       "      box-shadow: 0px 1px 3px 1px rgba(0, 0, 0, 0.15);\n",
       "      filter: drop-shadow(0px 1px 2px rgba(0, 0, 0, 0.3));\n",
       "      fill: #FFFFFF;\n",
       "    }\n",
       "  </style>\n",
       "\n",
       "      <script>\n",
       "        const buttonEl =\n",
       "          document.querySelector('#df-8b63cc0f-702f-4e3d-b8c3-6bf78073006e button.colab-df-convert');\n",
       "        buttonEl.style.display =\n",
       "          google.colab.kernel.accessAllowed ? 'block' : 'none';\n",
       "\n",
       "        async function convertToInteractive(key) {\n",
       "          const element = document.querySelector('#df-8b63cc0f-702f-4e3d-b8c3-6bf78073006e');\n",
       "          const dataTable =\n",
       "            await google.colab.kernel.invokeFunction('convertToInteractive',\n",
       "                                                     [key], {});\n",
       "          if (!dataTable) return;\n",
       "\n",
       "          const docLinkHtml = 'Like what you see? Visit the ' +\n",
       "            '<a target=\"_blank\" href=https://colab.research.google.com/notebooks/data_table.ipynb>data table notebook</a>'\n",
       "            + ' to learn more about interactive tables.';\n",
       "          element.innerHTML = '';\n",
       "          dataTable['output_type'] = 'display_data';\n",
       "          await google.colab.output.renderOutput(dataTable, element);\n",
       "          const docLink = document.createElement('div');\n",
       "          docLink.innerHTML = docLinkHtml;\n",
       "          element.appendChild(docLink);\n",
       "        }\n",
       "      </script>\n",
       "    </div>\n",
       "  </div>\n",
       "  "
      ],
      "text/plain": [
       "       Type Price  Buy\n",
       "count    10    10   10\n",
       "unique    3     3    2\n",
       "top      HB     H  Yes\n",
       "freq      4     5    6"
      ]
     },
     "execution_count": 61,
     "metadata": {},
     "output_type": "execute_result"
    }
   ],
   "source": [
    "df.describe()"
   ]
  },
  {
   "cell_type": "code",
   "execution_count": null,
   "id": "1d24cda7",
   "metadata": {
    "colab": {
     "base_uri": "https://localhost:8080/"
    },
    "id": "1d24cda7",
    "outputId": "1e2e1f8d-9120-4247-b0d0-540db8c53603"
   },
   "outputs": [
    {
     "name": "stdout",
     "output_type": "stream",
     "text": [
      "unique value of col Type are ['SUV' 'HB' 'SEDAN']\n",
      "unique value of col Price are ['H' 'L' 'Hot']\n",
      "unique value of col Buy are ['No' 'Yes']\n"
     ]
    }
   ],
   "source": [
    "#finding the unique value of each columns\n",
    "for col in df.columns:\n",
    "    print(\"unique value of col {} are {}\".format(col,df[col].unique()))"
   ]
  },
  {
   "cell_type": "markdown",
   "id": "Od27Ng4Y9oZG",
   "metadata": {
    "id": "Od27Ng4Y9oZG"
   },
   "source": [
    "Now once we have find the unique value in each column thenafter we will calcuate the total entropy for each initial state."
   ]
  },
  {
   "cell_type": "code",
   "execution_count": null,
   "id": "6ebc3bda",
   "metadata": {
    "id": "6ebc3bda"
   },
   "outputs": [],
   "source": [
    "def calEntropy(totalLen,totalLenA,totalLenB):\n",
    "    pobA = totalLenA/totalLen\n",
    "    pobB = totalLenB/totalLen\n",
    "    ent = -pobA * np.log2(pobA) - pobB*np.log2(pobB)\n",
    "    return ent"
   ]
  },
  {
   "cell_type": "markdown",
   "id": "7sPYZFSg_Ai4",
   "metadata": {
    "id": "7sPYZFSg_Ai4"
   },
   "source": [
    "The above fuction is used to calculate the entropy for all the attributes and combinations. "
   ]
  },
  {
   "cell_type": "markdown",
   "id": "lwYoNRXB_nuV",
   "metadata": {
    "id": "lwYoNRXB_nuV"
   },
   "source": [
    "#Now calculating the entropy of type buy using the above function. "
   ]
  },
  {
   "cell_type": "code",
   "execution_count": null,
   "id": "f041910e",
   "metadata": {
    "colab": {
     "base_uri": "https://localhost:8080/"
    },
    "id": "f041910e",
    "outputId": "7bb2dec5-c32e-45cc-a37a-bf7f68a7053d"
   },
   "outputs": [
    {
     "name": "stdout",
     "output_type": "stream",
     "text": [
      "0.6 0.4\n",
      "0.9709505944546686\n"
     ]
    }
   ],
   "source": [
    "tot = len(df)\n",
    "tot_n = len(df[df['Buy']==\"No\"])\n",
    "tot_y = len(df[df['Buy']==\"Yes\"])\n",
    "prob_y = tot_y/tot\n",
    "prob_n = tot_n/tot\n",
    "print(prob_y, prob_n)\n",
    "H_tot = -prob_y * np.log2(prob_y) - prob_n * np.log2(prob_n)\n",
    "print(H_tot)"
   ]
  },
  {
   "cell_type": "markdown",
   "id": "v4e9IK4H_7ig",
   "metadata": {
    "id": "v4e9IK4H_7ig"
   },
   "source": [
    "#Calculating the entropy of each type features"
   ]
  },
  {
   "cell_type": "markdown",
   "id": "cd70a6c7",
   "metadata": {
    "id": "cd70a6c7"
   },
   "source": [
    "# At first we calculate the entropy of type SUV"
   ]
  },
  {
   "cell_type": "code",
   "execution_count": null,
   "id": "f012d49b",
   "metadata": {
    "colab": {
     "base_uri": "https://localhost:8080/"
    },
    "id": "f012d49b",
    "outputId": "442e5741-d579-47be-b8f8-2cd0a71abd01"
   },
   "outputs": [
    {
     "name": "stdout",
     "output_type": "stream",
     "text": [
      "Total len of SUV=  3\n",
      "Total len of SUV and Yes=  1\n",
      "Total len of SUV and No= 2\n",
      "Entropy of SUV =  0.9182958340544896\n"
     ]
    }
   ],
   "source": [
    "suv = df[df['Type']=='SUV']\n",
    "suv_len = len(suv)\n",
    "print(\"Total len of SUV= \",suv_len)\n",
    "suv_and_yes = len(suv[suv['Buy']=='Yes'])\n",
    "print(\"Total len of SUV and Yes= \",suv_and_yes)\n",
    "suv_and_no = len(suv[suv['Buy']=='No'])\n",
    "print(\"Total len of SUV and No=\",suv_and_no)\n",
    "ent_suv = calEntropy(suv_len,suv_and_yes,suv_and_no)## Here we have call the above entropy fuction to calculate the entrpy of SUV type\n",
    "print(\"Entropy of SUV = \",ent_suv)"
   ]
  },
  {
   "cell_type": "markdown",
   "id": "a802ea91",
   "metadata": {
    "id": "a802ea91"
   },
   "source": [
    "# Similarly, we calculate the entropy of type HB"
   ]
  },
  {
   "cell_type": "code",
   "execution_count": null,
   "id": "a5abf00e",
   "metadata": {
    "colab": {
     "base_uri": "https://localhost:8080/"
    },
    "id": "a5abf00e",
    "outputId": "85345ad2-26a2-4858-a52c-acfa55d19c7c"
   },
   "outputs": [
    {
     "name": "stdout",
     "output_type": "stream",
     "text": [
      "Total len of HB=  4\n",
      "Total len of HB and Yes 2\n",
      "Total len of HB and No 2\n",
      "Entropy of HB =  1.0\n"
     ]
    }
   ],
   "source": [
    "hb = df[df['Type']=='HB']\n",
    "hb_len = len(hb)\n",
    "print(\"Total len of HB= \",hb_len)\n",
    "hb_and_yes = len(hb[hb['Buy']=='Yes'])\n",
    "print(\"Total len of HB and Yes\",hb_and_yes)\n",
    "hb_and_no = len(hb[hb['Buy']=='No'])\n",
    "print(\"Total len of HB and No\",hb_and_no)\n",
    "ent_hb = calEntropy(hb_len,hb_and_yes,hb_and_no)\n",
    "print(\"Entropy of HB = \",ent_hb)"
   ]
  },
  {
   "cell_type": "markdown",
   "id": "d43d1dba",
   "metadata": {
    "id": "d43d1dba"
   },
   "source": [
    "# Lastly, aagain we calculate entropy of type SEDAN"
   ]
  },
  {
   "cell_type": "code",
   "execution_count": null,
   "id": "2bf3009b",
   "metadata": {
    "colab": {
     "base_uri": "https://localhost:8080/"
    },
    "id": "2bf3009b",
    "outputId": "83f50a46-ea07-43ef-e963-27285ed25cd4"
   },
   "outputs": [
    {
     "name": "stdout",
     "output_type": "stream",
     "text": [
      "Total len of SEDAN=  3\n",
      "Total len of SEDAN and Yes=  3\n",
      "Total len of SEDAN and No=  0\n",
      "Entropy of SEDAN =  nan\n"
     ]
    },
    {
     "name": "stderr",
     "output_type": "stream",
     "text": [
      "/usr/local/lib/python3.7/dist-packages/ipykernel_launcher.py:4: RuntimeWarning: divide by zero encountered in log2\n",
      "  after removing the cwd from sys.path.\n",
      "/usr/local/lib/python3.7/dist-packages/ipykernel_launcher.py:4: RuntimeWarning: invalid value encountered in double_scalars\n",
      "  after removing the cwd from sys.path.\n"
     ]
    }
   ],
   "source": [
    "sedan = df[df['Type']=='SEDAN']\n",
    "sedan_len = len(sedan)\n",
    "print(\"Total len of SEDAN= \",sedan_len)\n",
    "sedan_and_yes = len(sedan[sedan['Buy']=='Yes'])\n",
    "print(\"Total len of SEDAN and Yes= \",sedan_and_yes)\n",
    "sedan_and_no = len(sedan[sedan['Buy']=='No'])\n",
    "print(\"Total len of SEDAN and No= \",sedan_and_no)\n",
    "ent_sedan = calEntropy(sedan_len,sedan_and_yes,sedan_and_no)\n",
    "print(\"Entropy of SEDAN = \",ent_sedan)"
   ]
  },
  {
   "cell_type": "markdown",
   "id": "PvojGOiOEN7p",
   "metadata": {
    "id": "PvojGOiOEN7p"
   },
   "source": [
    "Once we have find the entropy of each unique value, then we will calculate the overall entropy of the type. "
   ]
  },
  {
   "cell_type": "code",
   "execution_count": null,
   "id": "d87c89cd",
   "metadata": {
    "colab": {
     "base_uri": "https://localhost:8080/"
    },
    "id": "d87c89cd",
    "outputId": "8c1505d0-6a32-4ecc-f33d-4654d85d9249"
   },
   "outputs": [
    {
     "data": {
      "text/plain": [
       "0.6754887502163469"
      ]
     },
     "execution_count": 68,
     "metadata": {},
     "output_type": "execute_result"
    }
   ],
   "source": [
    "Overall_Entropy_Of_Type = (3/10)*0.9182958340544896 + (4/10)*1 + (3/10)*0\n",
    "Overall_Entropy_Of_Type"
   ]
  },
  {
   "cell_type": "markdown",
   "id": "FPhq5BPMElOV",
   "metadata": {
    "id": "FPhq5BPMElOV"
   },
   "source": [
    "# Now we have overall entropy of type attribute, then after we will calculate the Information Gain for the type attribute. \n",
    "#For this we have the formula\n",
    "   \\begin{align}\n",
    "        \\mathbf{Entropy(T,X)} =  [\\sum_{c=X} p(c)E(c) ]\n",
    "    \\end{align}\n",
    "\n",
    "#OR For this task we can say\n",
    "\n",
    "Information Gain = Entrpy of type buy - Entropy of type "
   ]
  },
  {
   "cell_type": "code",
   "execution_count": null,
   "id": "5dad8745",
   "metadata": {
    "colab": {
     "base_uri": "https://localhost:8080/"
    },
    "id": "5dad8745",
    "outputId": "3b8e4fb4-c6d4-4de8-95b7-d48a05ca555d"
   },
   "outputs": [
    {
     "data": {
      "text/plain": [
       "0.29546184423832167"
      ]
     },
     "execution_count": 69,
     "metadata": {},
     "output_type": "execute_result"
    }
   ],
   "source": [
    "InformationGain_Type = 0.9709505944546686 - 0.6754887502163469\n",
    "InformationGain_Type"
   ]
  },
  {
   "cell_type": "markdown",
   "id": "G0eH-ISiGUHT",
   "metadata": {
    "id": "G0eH-ISiGUHT"
   },
   "source": [
    "# Similarly, again we follow the same step for calculating the entropy of each price features"
   ]
  },
  {
   "cell_type": "markdown",
   "id": "5546d790",
   "metadata": {
    "id": "5546d790"
   },
   "source": [
    "At first we calculate the entropy of price H"
   ]
  },
  {
   "cell_type": "code",
   "execution_count": null,
   "id": "4cf4a74f",
   "metadata": {
    "colab": {
     "base_uri": "https://localhost:8080/"
    },
    "id": "4cf4a74f",
    "outputId": "7d94b72d-10c6-4628-f2b5-fcb214cde465"
   },
   "outputs": [
    {
     "name": "stdout",
     "output_type": "stream",
     "text": [
      "Total len of H=  5\n",
      "Total len of H and Yes=  3\n",
      "Total len of H and No=  2\n",
      "Entropy of H =  0.9709505944546686\n"
     ]
    }
   ],
   "source": [
    "h = df[df['Price']=='H']\n",
    "h_len = len(h)\n",
    "print(\"Total len of H= \",h_len)\n",
    "h_and_yes = len(h[h['Buy']=='Yes'])\n",
    "print(\"Total len of H and Yes= \",h_and_yes)\n",
    "h_and_no = len(h[h['Buy']=='No'])\n",
    "print(\"Total len of H and No= \",h_and_no)\n",
    "ent_h = calEntropy(h_len,h_and_yes,h_and_no)\n",
    "print(\"Entropy of H = \",ent_h)"
   ]
  },
  {
   "cell_type": "markdown",
   "id": "0fb0ebef",
   "metadata": {
    "id": "0fb0ebef"
   },
   "source": [
    "Calculating the entropy of price L"
   ]
  },
  {
   "cell_type": "code",
   "execution_count": null,
   "id": "7d9cd9b5",
   "metadata": {
    "colab": {
     "base_uri": "https://localhost:8080/"
    },
    "id": "7d9cd9b5",
    "outputId": "8408386f-2665-4472-8c04-81030f9f2954"
   },
   "outputs": [
    {
     "name": "stdout",
     "output_type": "stream",
     "text": [
      "Total len of L=  4\n",
      "Total len of L and Yes=  2\n",
      "Total len of L and No=  2\n",
      "Entropy of L =  1.0\n"
     ]
    }
   ],
   "source": [
    "l = df[df['Price']=='L']\n",
    "l_len = len(l)\n",
    "print(\"Total len of L= \", l_len)\n",
    "l_and_yes = len(l[l['Buy']=='Yes'])\n",
    "print(\"Total len of L and Yes= \",l_and_yes)\n",
    "l_and_no = len(l[l['Buy']=='No'])\n",
    "print(\"Total len of L and No= \",l_and_no)\n",
    "ent_l = calEntropy(l_len,l_and_yes,l_and_no)\n",
    "print(\"Entropy of L = \",ent_l)"
   ]
  },
  {
   "cell_type": "markdown",
   "id": "B0pNWGq7HEBV",
   "metadata": {
    "id": "B0pNWGq7HEBV"
   },
   "source": []
  },
  {
   "cell_type": "markdown",
   "id": "4773b51e",
   "metadata": {
    "id": "4773b51e"
   },
   "source": [
    "Calculating the entropy of price Hot"
   ]
  },
  {
   "cell_type": "code",
   "execution_count": null,
   "id": "c3aa360d",
   "metadata": {
    "colab": {
     "base_uri": "https://localhost:8080/"
    },
    "id": "c3aa360d",
    "outputId": "19710f31-0d28-446f-aada-96c75725ff63"
   },
   "outputs": [
    {
     "name": "stdout",
     "output_type": "stream",
     "text": [
      "Total len of Hot=  1\n",
      "Total len of Hot and Yes=  1\n",
      "Total len of Hot and No=  0\n",
      "Entropy of Hot =  nan\n"
     ]
    },
    {
     "name": "stderr",
     "output_type": "stream",
     "text": [
      "/usr/local/lib/python3.7/dist-packages/ipykernel_launcher.py:4: RuntimeWarning: divide by zero encountered in log2\n",
      "  after removing the cwd from sys.path.\n",
      "/usr/local/lib/python3.7/dist-packages/ipykernel_launcher.py:4: RuntimeWarning: invalid value encountered in double_scalars\n",
      "  after removing the cwd from sys.path.\n"
     ]
    }
   ],
   "source": [
    "hot = df[df['Price']=='Hot']\n",
    "hot_len = len(hot)\n",
    "print(\"Total len of Hot= \", hot_len)\n",
    "hot_and_yes = len(hot[hot['Buy']=='Yes'])\n",
    "print(\"Total len of Hot and Yes= \",hot_and_yes)\n",
    "hot_and_no = len(hot[hot['Buy']=='No'])\n",
    "print(\"Total len of Hot and No= \",hot_and_no)\n",
    "ent_hot = calEntropy(hot_len,hot_and_yes,hot_and_no)\n",
    "print(\"Entropy of Hot = \",ent_hot)"
   ]
  },
  {
   "cell_type": "code",
   "execution_count": null,
   "id": "80f71e79",
   "metadata": {
    "colab": {
     "base_uri": "https://localhost:8080/"
    },
    "id": "80f71e79",
    "outputId": "07e815c3-fee5-4433-ae40-72b8c6045daa"
   },
   "outputs": [
    {
     "data": {
      "text/plain": [
       "0.8854752972273343"
      ]
     },
     "execution_count": 73,
     "metadata": {},
     "output_type": "execute_result"
    }
   ],
   "source": [
    "Overall_Entropy_Of_Price= (5/10)*0.9709505944546686 + (4/10)*1 + (1/10)*0\n",
    "Overall_Entropy_Of_Price"
   ]
  },
  {
   "cell_type": "code",
   "execution_count": null,
   "id": "e4648a2f",
   "metadata": {
    "colab": {
     "base_uri": "https://localhost:8080/"
    },
    "id": "e4648a2f",
    "outputId": "2523d1bc-d603-4744-e5e5-b6324db2be67"
   },
   "outputs": [
    {
     "data": {
      "text/plain": [
       "0.08547529722733427"
      ]
     },
     "execution_count": 74,
     "metadata": {},
     "output_type": "execute_result"
    }
   ],
   "source": [
    "InformationGain_Price = 0.9709505944546686 - 0.8854752972273343\n",
    "InformationGain_Price"
   ]
  },
  {
   "cell_type": "markdown",
   "id": "a40cb521",
   "metadata": {
    "id": "a40cb521"
   },
   "source": [
    "# Conclusion\n",
    "\n",
    "From the above calculation we saw that information gain of type is higher that information gain of price.\n",
    "\n",
    "InformationGain_Type > InformationGain_Price\n",
    "\n",
    "i.e. 0.29546184423832167 > 0.08547529722733427\n",
    "\n"
   ]
  }
 ],
 "metadata": {
  "colab": {
   "collapsed_sections": [],
   "name": "PrabhatAdhikari_Week-3_Part-1.ipynb",
   "provenance": []
  },
  "kernelspec": {
   "display_name": "Python 3 (ipykernel)",
   "language": "python",
   "name": "python3"
  },
  "language_info": {
   "codemirror_mode": {
    "name": "ipython",
    "version": 3
   },
   "file_extension": ".py",
   "mimetype": "text/x-python",
   "name": "python",
   "nbconvert_exporter": "python",
   "pygments_lexer": "ipython3",
   "version": "3.9.7"
  }
 },
 "nbformat": 4,
 "nbformat_minor": 5
}
